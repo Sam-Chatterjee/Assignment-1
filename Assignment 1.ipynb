{
 "cells": [
  {
   "cell_type": "markdown",
   "id": "584dd66b-c1a8-432c-a525-7c86e780971e",
   "metadata": {},
   "source": [
    "1. Who developed Python\n",
    "\n",
    "A. Python was created by Guido van Rossum, and first released on February 20, 1991. The name of the Python programming language comes from an old BBC television comedy sketch series called Monty Python's Flying Circus."
   ]
  },
  {
   "cell_type": "markdown",
   "id": "ab05a598-e1b8-4ddd-84d4-6e37c8253368",
   "metadata": {},
   "source": [
    "2. which type of programming does python support\n",
    "\n",
    "A. It supports object-oriented, structured, and functional programming.\n"
   ]
  },
  {
   "cell_type": "markdown",
   "id": "4d0db161-7867-477b-9e02-963486ccf9d6",
   "metadata": {},
   "source": [
    "3. Is Python case sensitive when dealing with identifiers? \n",
    "\n",
    "A. Yes, Python is a case-sensitive language, i.e., it treats uppercase and lowercase characters differently. This applies to identifiers too. You must avoid using the same name with different cases while naming identifiers."
   ]
  },
  {
   "cell_type": "markdown",
   "id": "143a9737-40b6-44ec-b5e8-c3e78e8975e5",
   "metadata": {},
   "source": [
    "4.What is the correct extension of the Python file? \n",
    "\n",
    "A. .py"
   ]
  },
  {
   "cell_type": "markdown",
   "id": "0cef0fed-c770-4519-ab07-b106c9c7bac6",
   "metadata": {},
   "source": [
    "5. Is Python code compiled or interpreted?\n",
    "\n",
    "A. Python is an interpreted language, which means the source code of a Python program is converted into bytecode that is then executed by the Python virtual machine."
   ]
  },
  {
   "cell_type": "markdown",
   "id": "ced36105-ec2f-41cf-ac05-c23450870552",
   "metadata": {},
   "source": [
    "6. Name a few blocks of code used to define in Python language? \n",
    "\n",
    "A. A Python program is constructed from code blocks. A block is a piece of Python program text that is executed as a unit. The following are blocks: a module, a function body, and a class definition."
   ]
  },
  {
   "cell_type": "markdown",
   "id": "bd882df3-4fc7-4626-ae6b-980ce14d51d1",
   "metadata": {},
   "source": [
    "7. State a character used to give single-line comments in Python? \n",
    "\n",
    "A. Python offers a pretty simple and straightforward way to write a comment. We can write a single-line comment by adding a single # character before any statement or line of code."
   ]
  },
  {
   "cell_type": "markdown",
   "id": "e2566942-8739-48b8-911a-599e87797db2",
   "metadata": {},
   "source": [
    "8. Mention functions which can help us to find the version of python that we are currently working on? \n",
    "\n",
    "A. To get the Version of the python Interpreter, they are listed as follows: Using sys. version method. Using python_version() function."
   ]
  },
  {
   "cell_type": "markdown",
   "id": "dd65631e-f79d-4f24-b51f-32970733e927",
   "metadata": {},
   "source": [
    "9. Python supports the creation of anonymous functions at runtime, using a construct called?\n",
    "\n",
    "A. Lambda."
   ]
  },
  {
   "cell_type": "markdown",
   "id": "1b269894-722d-42c4-b57f-c5a6bcf41793",
   "metadata": {},
   "source": [
    "10. What does pip stand for python? \n",
    "\n",
    "A. PIP is a recursive acronym for “Preferred Installer Program” or PIP Installs Packages."
   ]
  },
  {
   "cell_type": "markdown",
   "id": "815e6360-fbdf-49c2-94c4-8afc24bfbe62",
   "metadata": {},
   "source": [
    "11. Mention a few built-in functions in python?\n",
    "\n",
    "A. print( ) function\n",
    "type( ) function\n",
    "input( ) function\n",
    "abs( ) function\n",
    "dir( ) function\n",
    "len( ) function\n",
    "sum( ) function\n",
    "help( ) function"
   ]
  },
  {
   "cell_type": "markdown",
   "id": "1adad511-2a80-4964-98f1-5d6f5fca9ac3",
   "metadata": {},
   "source": [
    "12. What is the maximum possible length of an identifier in Python?\n",
    "\n",
    "A. An identifier can have a maximum length of 79 characters in Python."
   ]
  },
  {
   "cell_type": "markdown",
   "id": "ff06e398-66c6-4be9-8ce0-385ea957afe9",
   "metadata": {},
   "source": [
    "13. What are the benefits of using Python? \n",
    "\n",
    "A. Simple to Use and Understand,\n",
    "Free and Open-Source,\n",
    "Productivity has Increased,\n",
    "Interpreted Language,\n",
    "Extensive library."
   ]
  },
  {
   "cell_type": "markdown",
   "id": "1e197216-2afd-4fb6-a847-7242affa1d6b",
   "metadata": {},
   "source": [
    "14. How is memory managed in Python?\n",
    "\n",
    "A. Memory management in Python involves a private heap containing all Python objects and data structures. The management of this private heap is ensured internally by the Python memory manager."
   ]
  },
  {
   "cell_type": "markdown",
   "id": "f8930442-f6c6-403e-a753-ca2fd7ee4e49",
   "metadata": {},
   "source": [
    "15. How to install Python on Windows and set path variables? \n",
    "\n",
    "A. It can be added to Windows path by downloading a recent version of Python, and then checking the box to Add Python to PATH at the bottom of the setup screen.\n",
    "\n",
    "The variables can be added by\n",
    "\n",
    "1.Right-clicking This PC and going to Properties.\n",
    "\n",
    "2.Clicking on the Advanced system settings in the menu on the left.\n",
    "\n",
    "3.Clicking on the Environment Variables button o​n the bottom right.\n",
    "\n",
    "3.In the System variables section, selecting the Path variable and clicking on Edit. The next screen will show all the directories that are currently a part of the PATH variable.\n",
    "\n",
    "4.Clicking on New and entering Python’s install directory."
   ]
  },
  {
   "cell_type": "markdown",
   "id": "4d4ddf37-9a23-48a0-9a59-0633408c9b11",
   "metadata": {},
   "source": [
    "16. Is indentation required in python? \n",
    "\n"
   ]
  }
 ],
 "metadata": {
  "kernelspec": {
   "display_name": "Python 3 (ipykernel)",
   "language": "python",
   "name": "python3"
  },
  "language_info": {
   "codemirror_mode": {
    "name": "ipython",
    "version": 3
   },
   "file_extension": ".py",
   "mimetype": "text/x-python",
   "name": "python",
   "nbconvert_exporter": "python",
   "pygments_lexer": "ipython3",
   "version": "3.10.8"
  }
 },
 "nbformat": 4,
 "nbformat_minor": 5
}
